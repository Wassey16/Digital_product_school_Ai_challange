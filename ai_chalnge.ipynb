{
 "cells": [
  {
   "cell_type": "markdown",
   "metadata": {},
   "source": [
    "---"
   ]
  },
  {
   "cell_type": "code",
   "execution_count": 4,
   "metadata": {},
   "outputs": [
    {
     "name": "stdout",
     "output_type": "stream",
     "text": [
      "        MONATSZAHL AUSPRAEGUNG  JAHR   MONAT   WERT\n",
      "50  Alkoholunfälle   insgesamt  2020   Summe  430.0\n",
      "51  Alkoholunfälle   insgesamt  2020  202001   28.0\n",
      "52  Alkoholunfälle   insgesamt  2020  202002   40.0\n",
      "53  Alkoholunfälle   insgesamt  2020  202003   27.0\n",
      "54  Alkoholunfälle   insgesamt  2020  202004   26.0\n"
     ]
    }
   ],
   "source": [
    "import pandas as pd\n",
    "\n",
    "# Load the CSV file into a DataFrame\n",
    "df = pd.read_csv('Monatszahlen_Verkehrsunfälle.csv')\n",
    "\n",
    "# Step 2: Drop the specified columns\n",
    "columns_to_drop = [\"VORJAHRESWERT\", \"VERAEND_VORMONAT_PROZENT\", \"VERAEND_VORJAHRESMONAT_PROZENT\", \"ZWOELF_MONATE_MITTELWERT\"]\n",
    "df = df.drop(columns=columns_to_drop)\n",
    "\n",
    "# Display the first few rows of the DataFrame\n",
    "print(df[50:55])\n"
   ]
  },
  {
   "cell_type": "code",
   "execution_count": 5,
   "metadata": {},
   "outputs": [
    {
     "name": "stdout",
     "output_type": "stream",
     "text": [
      "['Alkoholunfälle' 'Fluchtunfälle' 'Verkehrsunfälle']\n",
      "['insgesamt' 'Verletzte und Getötete' 'mit Personenschäden']\n",
      "2000\n",
      "200001\n"
     ]
    }
   ],
   "source": [
    "x = df[df['JAHR'] <= 2020]\n",
    "\n",
    "print (x['MONATSZAHL'].unique())\n",
    "print (x['AUSPRAEGUNG'].unique())\n",
    "print (min(x['JAHR'].unique()))\n",
    "print (min(x['MONAT'].unique()))\n",
    "\n",
    "\n"
   ]
  },
  {
   "cell_type": "code",
   "execution_count": 6,
   "metadata": {},
   "outputs": [
    {
     "name": "stdout",
     "output_type": "stream",
     "text": [
      "        MONATSZAHL             AUSPRAEGUNG  NaN_Count\n",
      "0   Alkoholunfälle  Verletzte und Getötete          0\n",
      "1   Alkoholunfälle               insgesamt          0\n",
      "2    Fluchtunfälle  Verletzte und Getötete          0\n",
      "3    Fluchtunfälle               insgesamt          0\n",
      "4  Verkehrsunfälle  Verletzte und Getötete          0\n",
      "5  Verkehrsunfälle               insgesamt          0\n",
      "6  Verkehrsunfälle     mit Personenschäden          0\n"
     ]
    }
   ],
   "source": [
    "# Group by category and type and count NaN values in 'WERT'\n",
    "nan_counts = x.groupby(['MONATSZAHL', 'AUSPRAEGUNG'])['WERT'].apply(lambda x: x.isna().sum()).reset_index()\n",
    "\n",
    "# Rename the column for clarity\n",
    "nan_counts.rename(columns={'WERT': 'NaN_Count'}, inplace=True)\n",
    "print(nan_counts)"
   ]
  }
 ],
 "metadata": {
  "kernelspec": {
   "display_name": "Python 3 (ipykernel)",
   "language": "python",
   "name": "python3"
  },
  "language_info": {
   "codemirror_mode": {
    "name": "ipython",
    "version": 3
   },
   "file_extension": ".py",
   "mimetype": "text/x-python",
   "name": "python",
   "nbconvert_exporter": "python",
   "pygments_lexer": "ipython3",
   "version": "3.11.1"
  }
 },
 "nbformat": 4,
 "nbformat_minor": 4
}
